{
 "cells": [
  {
   "cell_type": "markdown",
   "metadata": {},
   "source": [
    "# INTRODUCTION\n",
    " Many companies produce bboth chep and luxerious cars, i want to classify them."
   ]
  },
  {
   "cell_type": "markdown",
   "metadata": {},
   "source": [
    "## PART 1\n",
    "### SETUP AND LOADING DATA"
   ]
  },
  {
   "cell_type": "markdown",
   "metadata": {},
   "source": [
    "#### 1.1 Install Dependencies and setup"
   ]
  },
  {
   "cell_type": "code",
   "execution_count": 3,
   "metadata": {},
   "outputs": [
    {
     "name": "stdout",
     "output_type": "stream",
     "text": [
      "Requirement already satisfied: tensorflow==2.10.1 in c:\\users\\test\\anaconda3\\envs\\tf_gpu\\lib\\site-packages (2.10.1)\n",
      "Requirement already satisfied: tensorflow-gpu==2.10.1 in c:\\users\\test\\anaconda3\\envs\\tf_gpu\\lib\\site-packages (2.10.1)\n",
      "Requirement already satisfied: opencv-python in c:\\users\\test\\anaconda3\\envs\\tf_gpu\\lib\\site-packages (4.10.0.82)\n",
      "Requirement already satisfied: matplotlib in c:\\users\\test\\anaconda3\\envs\\tf_gpu\\lib\\site-packages (3.9.0)\n",
      "Requirement already satisfied: absl-py>=1.0.0 in c:\\users\\test\\anaconda3\\envs\\tf_gpu\\lib\\site-packages (from tensorflow==2.10.1) (2.1.0)\n",
      "Requirement already satisfied: astunparse>=1.6.0 in c:\\users\\test\\anaconda3\\envs\\tf_gpu\\lib\\site-packages (from tensorflow==2.10.1) (1.6.3)\n",
      "Requirement already satisfied: flatbuffers>=2.0 in c:\\users\\test\\anaconda3\\envs\\tf_gpu\\lib\\site-packages (from tensorflow==2.10.1) (24.3.25)\n",
      "Requirement already satisfied: gast<=0.4.0,>=0.2.1 in c:\\users\\test\\anaconda3\\envs\\tf_gpu\\lib\\site-packages (from tensorflow==2.10.1) (0.4.0)\n",
      "Requirement already satisfied: google-pasta>=0.1.1 in c:\\users\\test\\anaconda3\\envs\\tf_gpu\\lib\\site-packages (from tensorflow==2.10.1) (0.2.0)\n",
      "Requirement already satisfied: h5py>=2.9.0 in c:\\users\\test\\anaconda3\\envs\\tf_gpu\\lib\\site-packages (from tensorflow==2.10.1) (3.11.0)\n",
      "Requirement already satisfied: keras-preprocessing>=1.1.1 in c:\\users\\test\\anaconda3\\envs\\tf_gpu\\lib\\site-packages (from tensorflow==2.10.1) (1.1.2)\n",
      "Requirement already satisfied: libclang>=13.0.0 in c:\\users\\test\\anaconda3\\envs\\tf_gpu\\lib\\site-packages (from tensorflow==2.10.1) (18.1.1)\n",
      "Requirement already satisfied: numpy>=1.20 in c:\\users\\test\\anaconda3\\envs\\tf_gpu\\lib\\site-packages (from tensorflow==2.10.1) (1.26.4)\n",
      "Requirement already satisfied: opt-einsum>=2.3.2 in c:\\users\\test\\anaconda3\\envs\\tf_gpu\\lib\\site-packages (from tensorflow==2.10.1) (3.3.0)\n",
      "Requirement already satisfied: packaging in c:\\users\\test\\anaconda3\\envs\\tf_gpu\\lib\\site-packages (from tensorflow==2.10.1) (24.1)\n",
      "Requirement already satisfied: protobuf<3.20,>=3.9.2 in c:\\users\\test\\anaconda3\\envs\\tf_gpu\\lib\\site-packages (from tensorflow==2.10.1) (3.19.6)\n",
      "Requirement already satisfied: setuptools in c:\\users\\test\\anaconda3\\envs\\tf_gpu\\lib\\site-packages (from tensorflow==2.10.1) (69.5.1)\n",
      "Requirement already satisfied: six>=1.12.0 in c:\\users\\test\\anaconda3\\envs\\tf_gpu\\lib\\site-packages (from tensorflow==2.10.1) (1.16.0)\n",
      "Requirement already satisfied: termcolor>=1.1.0 in c:\\users\\test\\anaconda3\\envs\\tf_gpu\\lib\\site-packages (from tensorflow==2.10.1) (2.4.0)\n",
      "Requirement already satisfied: typing-extensions>=3.6.6 in c:\\users\\test\\anaconda3\\envs\\tf_gpu\\lib\\site-packages (from tensorflow==2.10.1) (4.12.2)\n",
      "Requirement already satisfied: wrapt>=1.11.0 in c:\\users\\test\\anaconda3\\envs\\tf_gpu\\lib\\site-packages (from tensorflow==2.10.1) (1.16.0)\n",
      "Requirement already satisfied: tensorflow-io-gcs-filesystem>=0.23.1 in c:\\users\\test\\anaconda3\\envs\\tf_gpu\\lib\\site-packages (from tensorflow==2.10.1) (0.31.0)\n",
      "Requirement already satisfied: grpcio<2.0,>=1.24.3 in c:\\users\\test\\anaconda3\\envs\\tf_gpu\\lib\\site-packages (from tensorflow==2.10.1) (1.64.1)\n",
      "Requirement already satisfied: tensorboard<2.11,>=2.10 in c:\\users\\test\\anaconda3\\envs\\tf_gpu\\lib\\site-packages (from tensorflow==2.10.1) (2.10.1)\n",
      "Requirement already satisfied: tensorflow-estimator<2.11,>=2.10.0 in c:\\users\\test\\anaconda3\\envs\\tf_gpu\\lib\\site-packages (from tensorflow==2.10.1) (2.10.0)\n",
      "Requirement already satisfied: keras<2.11,>=2.10.0 in c:\\users\\test\\anaconda3\\envs\\tf_gpu\\lib\\site-packages (from tensorflow==2.10.1) (2.10.0)\n",
      "Requirement already satisfied: contourpy>=1.0.1 in c:\\users\\test\\anaconda3\\envs\\tf_gpu\\lib\\site-packages (from matplotlib) (1.2.1)\n",
      "Requirement already satisfied: cycler>=0.10 in c:\\users\\test\\anaconda3\\envs\\tf_gpu\\lib\\site-packages (from matplotlib) (0.12.1)\n",
      "Requirement already satisfied: fonttools>=4.22.0 in c:\\users\\test\\anaconda3\\envs\\tf_gpu\\lib\\site-packages (from matplotlib) (4.53.0)\n",
      "Requirement already satisfied: kiwisolver>=1.3.1 in c:\\users\\test\\anaconda3\\envs\\tf_gpu\\lib\\site-packages (from matplotlib) (1.4.5)\n",
      "Requirement already satisfied: pillow>=8 in c:\\users\\test\\anaconda3\\envs\\tf_gpu\\lib\\site-packages (from matplotlib) (10.3.0)\n",
      "Requirement already satisfied: pyparsing>=2.3.1 in c:\\users\\test\\anaconda3\\envs\\tf_gpu\\lib\\site-packages (from matplotlib) (3.1.2)\n",
      "Requirement already satisfied: python-dateutil>=2.7 in c:\\users\\test\\anaconda3\\envs\\tf_gpu\\lib\\site-packages (from matplotlib) (2.9.0)\n",
      "Requirement already satisfied: importlib-resources>=3.2.0 in c:\\users\\test\\anaconda3\\envs\\tf_gpu\\lib\\site-packages (from matplotlib) (6.4.0)\n",
      "Requirement already satisfied: wheel<1.0,>=0.23.0 in c:\\users\\test\\anaconda3\\envs\\tf_gpu\\lib\\site-packages (from astunparse>=1.6.0->tensorflow==2.10.1) (0.43.0)\n",
      "Requirement already satisfied: zipp>=3.1.0 in c:\\users\\test\\anaconda3\\envs\\tf_gpu\\lib\\site-packages (from importlib-resources>=3.2.0->matplotlib) (3.19.2)\n",
      "Requirement already satisfied: google-auth<3,>=1.6.3 in c:\\users\\test\\anaconda3\\envs\\tf_gpu\\lib\\site-packages (from tensorboard<2.11,>=2.10->tensorflow==2.10.1) (2.30.0)\n",
      "Requirement already satisfied: google-auth-oauthlib<0.5,>=0.4.1 in c:\\users\\test\\anaconda3\\envs\\tf_gpu\\lib\\site-packages (from tensorboard<2.11,>=2.10->tensorflow==2.10.1) (0.4.6)\n",
      "Requirement already satisfied: markdown>=2.6.8 in c:\\users\\test\\anaconda3\\envs\\tf_gpu\\lib\\site-packages (from tensorboard<2.11,>=2.10->tensorflow==2.10.1) (3.6)\n",
      "Requirement already satisfied: requests<3,>=2.21.0 in c:\\users\\test\\anaconda3\\envs\\tf_gpu\\lib\\site-packages (from tensorboard<2.11,>=2.10->tensorflow==2.10.1) (2.32.3)\n",
      "Requirement already satisfied: tensorboard-data-server<0.7.0,>=0.6.0 in c:\\users\\test\\anaconda3\\envs\\tf_gpu\\lib\\site-packages (from tensorboard<2.11,>=2.10->tensorflow==2.10.1) (0.6.1)\n",
      "Requirement already satisfied: tensorboard-plugin-wit>=1.6.0 in c:\\users\\test\\anaconda3\\envs\\tf_gpu\\lib\\site-packages (from tensorboard<2.11,>=2.10->tensorflow==2.10.1) (1.8.1)\n",
      "Requirement already satisfied: werkzeug>=1.0.1 in c:\\users\\test\\anaconda3\\envs\\tf_gpu\\lib\\site-packages (from tensorboard<2.11,>=2.10->tensorflow==2.10.1) (3.0.3)\n",
      "Requirement already satisfied: cachetools<6.0,>=2.0.0 in c:\\users\\test\\anaconda3\\envs\\tf_gpu\\lib\\site-packages (from google-auth<3,>=1.6.3->tensorboard<2.11,>=2.10->tensorflow==2.10.1) (5.3.3)\n",
      "Requirement already satisfied: pyasn1-modules>=0.2.1 in c:\\users\\test\\anaconda3\\envs\\tf_gpu\\lib\\site-packages (from google-auth<3,>=1.6.3->tensorboard<2.11,>=2.10->tensorflow==2.10.1) (0.4.0)\n",
      "Requirement already satisfied: rsa<5,>=3.1.4 in c:\\users\\test\\anaconda3\\envs\\tf_gpu\\lib\\site-packages (from google-auth<3,>=1.6.3->tensorboard<2.11,>=2.10->tensorflow==2.10.1) (4.9)\n",
      "Requirement already satisfied: requests-oauthlib>=0.7.0 in c:\\users\\test\\anaconda3\\envs\\tf_gpu\\lib\\site-packages (from google-auth-oauthlib<0.5,>=0.4.1->tensorboard<2.11,>=2.10->tensorflow==2.10.1) (2.0.0)\n",
      "Requirement already satisfied: importlib-metadata>=4.4 in c:\\users\\test\\anaconda3\\envs\\tf_gpu\\lib\\site-packages (from markdown>=2.6.8->tensorboard<2.11,>=2.10->tensorflow==2.10.1) (7.1.0)\n",
      "Requirement already satisfied: charset-normalizer<4,>=2 in c:\\users\\test\\anaconda3\\envs\\tf_gpu\\lib\\site-packages (from requests<3,>=2.21.0->tensorboard<2.11,>=2.10->tensorflow==2.10.1) (3.3.2)\n",
      "Requirement already satisfied: idna<4,>=2.5 in c:\\users\\test\\anaconda3\\envs\\tf_gpu\\lib\\site-packages (from requests<3,>=2.21.0->tensorboard<2.11,>=2.10->tensorflow==2.10.1) (3.7)\n",
      "Requirement already satisfied: urllib3<3,>=1.21.1 in c:\\users\\test\\anaconda3\\envs\\tf_gpu\\lib\\site-packages (from requests<3,>=2.21.0->tensorboard<2.11,>=2.10->tensorflow==2.10.1) (2.2.1)\n",
      "Requirement already satisfied: certifi>=2017.4.17 in c:\\users\\test\\anaconda3\\envs\\tf_gpu\\lib\\site-packages (from requests<3,>=2.21.0->tensorboard<2.11,>=2.10->tensorflow==2.10.1) (2024.6.2)\n",
      "Requirement already satisfied: MarkupSafe>=2.1.1 in c:\\users\\test\\anaconda3\\envs\\tf_gpu\\lib\\site-packages (from werkzeug>=1.0.1->tensorboard<2.11,>=2.10->tensorflow==2.10.1) (2.1.5)\n",
      "Requirement already satisfied: pyasn1<0.7.0,>=0.4.6 in c:\\users\\test\\anaconda3\\envs\\tf_gpu\\lib\\site-packages (from pyasn1-modules>=0.2.1->google-auth<3,>=1.6.3->tensorboard<2.11,>=2.10->tensorflow==2.10.1) (0.6.0)\n",
      "Requirement already satisfied: oauthlib>=3.0.0 in c:\\users\\test\\anaconda3\\envs\\tf_gpu\\lib\\site-packages (from requests-oauthlib>=0.7.0->google-auth-oauthlib<0.5,>=0.4.1->tensorboard<2.11,>=2.10->tensorflow==2.10.1) (3.2.2)\n"
     ]
    }
   ],
   "source": [
    "\"\"\" \n",
    "we will use tensorflow 2.10 and the gpu with open cv\n",
    "\"\"\"\n",
    "!pip install tensorflow==2.10.1 tensorflow-gpu==2.10.1 opencv-python matplotlib"
   ]
  },
  {
   "cell_type": "code",
   "execution_count": 4,
   "metadata": {},
   "outputs": [
    {
     "name": "stdout",
     "output_type": "stream",
     "text": [
      "Package                      Version\n",
      "---------------------------- ---------\n",
      "absl-py                      2.1.0\n",
      "asttokens                    2.4.1\n",
      "astunparse                   1.6.3\n",
      "backcall                     0.2.0\n",
      "cachetools                   5.3.3\n",
      "certifi                      2024.6.2\n",
      "charset-normalizer           3.3.2\n",
      "colorama                     0.4.6\n",
      "comm                         0.2.2\n",
      "contourpy                    1.2.1\n",
      "cycler                       0.12.1\n",
      "debugpy                      1.8.1\n",
      "decorator                    5.1.1\n",
      "executing                    2.0.1\n",
      "flatbuffers                  24.3.25\n",
      "fonttools                    4.53.0\n",
      "gast                         0.4.0\n",
      "google-auth                  2.30.0\n",
      "google-auth-oauthlib         0.4.6\n",
      "google-pasta                 0.2.0\n",
      "grpcio                       1.64.1\n",
      "h5py                         3.11.0\n",
      "idna                         3.7\n",
      "importlib_metadata           7.1.0\n",
      "importlib_resources          6.4.0\n",
      "ipykernel                    6.29.4\n",
      "ipython                      8.12.0\n",
      "jedi                         0.19.1\n",
      "jupyter_client               8.6.2\n",
      "jupyter_core                 5.7.2\n",
      "keras                        2.10.0\n",
      "Keras-Preprocessing          1.1.2\n",
      "kiwisolver                   1.4.5\n",
      "libclang                     18.1.1\n",
      "Markdown                     3.6\n",
      "MarkupSafe                   2.1.5\n",
      "matplotlib                   3.9.0\n",
      "matplotlib-inline            0.1.7\n",
      "nest_asyncio                 1.6.0\n",
      "numpy                        1.26.4\n",
      "oauthlib                     3.2.2\n",
      "opencv-python                4.10.0.82\n",
      "opt-einsum                   3.3.0\n",
      "packaging                    24.1\n",
      "parso                        0.8.4\n",
      "pickleshare                  0.7.5\n",
      "pillow                       10.3.0\n",
      "pip                          24.0\n",
      "platformdirs                 4.2.2\n",
      "prompt_toolkit               3.0.47\n",
      "protobuf                     3.19.6\n",
      "psutil                       5.9.8\n",
      "pure-eval                    0.2.2\n",
      "pyasn1                       0.6.0\n",
      "pyasn1_modules               0.4.0\n",
      "Pygments                     2.18.0\n",
      "pyparsing                    3.1.2\n",
      "python-dateutil              2.9.0\n",
      "pywin32                      306\n",
      "pyzmq                        26.0.3\n",
      "requests                     2.32.3\n",
      "requests-oauthlib            2.0.0\n",
      "rsa                          4.9\n",
      "setuptools                   69.5.1\n",
      "six                          1.16.0\n",
      "stack-data                   0.6.2\n",
      "tensorboard                  2.10.1\n",
      "tensorboard-data-server      0.6.1\n",
      "tensorboard-plugin-wit       1.8.1\n",
      "tensorflow                   2.10.1\n",
      "tensorflow-estimator         2.10.0\n",
      "tensorflow-gpu               2.10.1\n",
      "tensorflow-io-gcs-filesystem 0.31.0\n",
      "termcolor                    2.4.0\n",
      "tornado                      6.4.1\n",
      "traitlets                    5.14.3\n",
      "typing_extensions            4.12.2\n",
      "urllib3                      2.2.1\n",
      "wcwidth                      0.2.13\n",
      "Werkzeug                     3.0.3\n",
      "wheel                        0.43.0\n",
      "wrapt                        1.16.0\n",
      "zipp                         3.19.2\n"
     ]
    }
   ],
   "source": [
    "\"\"\" \n",
    "To see what we have installed\n",
    "\"\"\"\n",
    "!pip list"
   ]
  },
  {
   "cell_type": "markdown",
   "metadata": {},
   "source": [
    "#### We need to compress our GPU"
   ]
  },
  {
   "cell_type": "code",
   "execution_count": 5,
   "metadata": {},
   "outputs": [],
   "source": [
    "\"\"\" \n",
    "To do this, we need to import tensorflow, and OS. Os is used for navigating the filesystem\n",
    "\"\"\"\n",
    "import tensorflow as tf\n",
    "import os\n"
   ]
  },
  {
   "cell_type": "code",
   "execution_count": 8,
   "metadata": {},
   "outputs": [
    {
     "data": {
      "text/plain": [
       "0"
      ]
     },
     "execution_count": 8,
     "metadata": {},
     "output_type": "execute_result"
    }
   ],
   "source": [
    "gpus = tf.config.experimental.list_physical_devices('cpu') #to see the legnth of our cpu\n",
    "(len(gpus))\n"
   ]
  },
  {
   "cell_type": "code",
   "execution_count": 9,
   "metadata": {},
   "outputs": [],
   "source": [
    "\"\"\" Lets grab all the GPU in the machine \n",
    "\"\"\"\n",
    "gpus = tf.config.experimental.list_physical_devices('GPU')\n",
    "for gpu in gpus:\n",
    "    tf.config.experimental.set_memory_growth(gpu, True)"
   ]
  },
  {
   "cell_type": "code",
   "execution_count": null,
   "metadata": {},
   "outputs": [],
   "source": []
  }
 ],
 "metadata": {
  "kernelspec": {
   "display_name": "Python 3",
   "language": "python",
   "name": "python3"
  },
  "language_info": {
   "codemirror_mode": {
    "name": "ipython",
    "version": 3
   },
   "file_extension": ".py",
   "mimetype": "text/x-python",
   "name": "python",
   "nbconvert_exporter": "python",
   "pygments_lexer": "ipython3",
   "version": "3.9.19"
  }
 },
 "nbformat": 4,
 "nbformat_minor": 2
}
